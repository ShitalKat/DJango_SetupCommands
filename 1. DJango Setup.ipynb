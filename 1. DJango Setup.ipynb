{
 "cells": [
  {
   "cell_type": "markdown",
   "metadata": {},
   "source": [
    "No Need to Run this File again. Already Ran once and folder got created accordingly.\n",
    "This file is just for referece how we have created Django Project from scrach."
   ]
  },
  {
   "cell_type": "markdown",
   "metadata": {},
   "source": [
    "# Lets Create Virtual Evironment"
   ]
  },
  {
   "cell_type": "code",
   "execution_count": 5,
   "metadata": {
    "ExecuteTime": {
     "end_time": "2019-05-09T09:36:02.884233Z",
     "start_time": "2019-05-09T09:35:34.916929Z"
    }
   },
   "outputs": [
    {
     "name": "stdout",
     "output_type": "stream",
     "text": [
      "Collecting virtualenv\n",
      "  Downloading https://files.pythonhosted.org/packages/4f/ba/6f9315180501d5ac3e707f19fcb1764c26cc6a9a31af05778f7c2383eadb/virtualenv-16.5.0-py2.py3-none-any.whl (2.0MB)\n",
      "Installing collected packages: virtualenv\n",
      "Successfully installed virtualenv-16.5.0\n"
     ]
    }
   ],
   "source": [
    "!pip install virtualenv"
   ]
  },
  {
   "cell_type": "code",
   "execution_count": 1,
   "metadata": {
    "ExecuteTime": {
     "end_time": "2019-05-09T09:34:13.779378Z",
     "start_time": "2019-05-09T09:34:13.141973Z"
    }
   },
   "outputs": [
    {
     "name": "stderr",
     "output_type": "stream",
     "text": [
      "'virtualenv' is not recognized as an internal or external command,\n",
      "operable program or batch file.\n"
     ]
    }
   ],
   "source": [
    "#!sudo pip3 install virtualenv\n",
    "\n",
    "!virtualenv venv -p python3"
   ]
  },
  {
   "cell_type": "code",
   "execution_count": 4,
   "metadata": {},
   "outputs": [],
   "source": [
    "!source venv/bin/activate  ## To activate environment\n",
    "#! source deactivate       ## To deactivate environment"
   ]
  },
  {
   "cell_type": "markdown",
   "metadata": {},
   "source": [
    "# Starting new DJANGO Project"
   ]
  },
  {
   "cell_type": "code",
   "execution_count": 5,
   "metadata": {},
   "outputs": [],
   "source": [
    "!django-admin startproject capstoneProject"
   ]
  },
  {
   "cell_type": "markdown",
   "metadata": {},
   "source": [
    "5.Deployment/                  <-- higher level folder\n",
    " |-- capstoneProject/             <-- django project folder\n",
    " |    |-- capstoneProject/\n",
    " |    |    |-- __init__.py\n",
    " |    |    |-- settings.py\n",
    " |    |    |-- urls.py\n",
    " |    |    |-- wsgi.py\n",
    " |    +-- manage.py\n",
    " +-- venv/                  <-- virtual environment folder"
   ]
  },
  {
   "cell_type": "markdown",
   "metadata": {},
   "source": [
    "Our initial project structure is composed of five files:\n",
    "\n",
    "<b>manage.py</b>:<br> \n",
    "    a shortcut to use the django-admin command-line utility. It’s used to run management commands related to our project. We will use it to run the development server, run tests, create migrations and much more.\n",
    "\n",
    "<b>__init__.py</b>: <br> this empty file tells Python that this folder is a Python package.\n",
    "\n",
    "<b>settings.py</b>: <br> this file contains all the project’s configuration. We will refer to this file all the time!\n",
    "\n",
    "<b>urls.py</b>: <br> \n",
    "    this file is responsible for mapping the routes and paths in our project. For example, if you want to show something in the URL /about/, you have to map it here first.\n",
    "\n",
    "<b>wsgi.py</b>: <br> \n",
    "    this file is a simple gateway interface used for deployment. You don’t have to bother about it. Just let it be for now"
   ]
  },
  {
   "cell_type": "code",
   "execution_count": 16,
   "metadata": {},
   "outputs": [
    {
     "name": "stdout",
     "output_type": "stream",
     "text": [
      "Performing system checks...\n",
      "\n",
      "System check identified no issues (0 silenced).\n",
      "\u001b[31m\n",
      "You have 15 unapplied migration(s). Your project may not work properly until you apply the migrations for app(s): admin, auth, contenttypes, sessions.\u001b[0m\n",
      "\u001b[31mRun 'python manage.py migrate' to apply them.\n",
      "\u001b[0m\n",
      "February 17, 2019 - 15:25:06\n",
      "Django version 2.1.1, using settings 'capstoneProject.settings'\n",
      "Starting development server at http://127.0.0.1:8000/\n",
      "Quit the server with CONTROL-C.\n",
      "^C\n"
     ]
    }
   ],
   "source": [
    "!python capstoneProject/manage.py runserver\n",
    "# This will help to open webpage"
   ]
  },
  {
   "cell_type": "markdown",
   "metadata": {},
   "source": [
    "# Starting new DJANGO app\n",
    "\n",
    "In the Django philosophy we have two important concepts:\n",
    "\n",
    "<b>app: </b><br>is a Web application that does something. An app usually is composed of a set of models (database tables), views, templates, tests.\n",
    "\n",
    "\n",
    "<b>project: </b><br>is a collection of configurations and apps. One project can be composed of multiple apps, or a single app."
   ]
  },
  {
   "cell_type": "code",
   "execution_count": 14,
   "metadata": {},
   "outputs": [],
   "source": [
    "!django-admin startapp capstoneApp\n",
    "# this will add few more folders\n"
   ]
  },
  {
   "cell_type": "markdown",
   "metadata": {},
   "source": [
    "<b>Important thing</b>\n",
    "\n",
    "Now move capstoneApp to capstoneProject to follow following folder hierarchy"
   ]
  },
  {
   "cell_type": "raw",
   "metadata": {},
   "source": [
    "5. Deployement/\n",
    " |-- capstoneProject/\n",
    " |    |-- capstoneApp/                <-- our new django app!\n",
    " |    |    |-- migrations/\n",
    " |    |    |    +-- __init__.py\n",
    " |    |    |-- __init__.py\n",
    " |    |    |-- admin.py\n",
    " |    |    |-- apps.py\n",
    " |    |    |-- models.py\n",
    " |    |    |-- tests.py\n",
    " |    |    +-- views.py\n",
    " |    |-- capstoneProject/\n",
    " |    |    |-- __init__.py\n",
    " |    |    |-- settings.py\n",
    " |    |    |-- urls.py\n",
    " |    |    |-- wsgi.py\n",
    " |    +-- manage.py\n",
    " +-- venv/"
   ]
  },
  {
   "cell_type": "markdown",
   "metadata": {},
   "source": [
    "So, let’s first explore what each file does:\n",
    "\n",
    "<b>migrations:</b><br> here Django store some files to keep track of the changes you create in the models.py file, so to keep the database and the models.py synchronized.\n",
    "\n",
    "<b>admin.py:</b><br> this is a configuration file for a built-in Django app called Django Admin.\n",
    "\n",
    "<b>apps.py:</b><br> this is a configuration file of the app itself.\n",
    "\n",
    "<b>models.py:</b><br> here is where we define the entities of our Web application. The models are translated automatically by Django into database tables.\n",
    "\n",
    "<b>tests.py:</b><br> this file is used to write unit tests for the app.\n",
    "\n",
    "<b>views.py:</b><br> this is the file where we handle the request/response cycle of our Web application."
   ]
  },
  {
   "cell_type": "markdown",
   "metadata": {},
   "source": [
    "# Configure project to use app\n",
    "\n",
    "Make Edit in capstoneProject/settings.py\n",
    "<h3>settings.py</h3>\n",
    "\n",
    "Now that we created our first app, let’s configure our project to use it.\n",
    "\n",
    "To do that, open the settings.py and try to find the INSTALLED_APPS variable:"
   ]
  },
  {
   "cell_type": "raw",
   "metadata": {},
   "source": [
    "INSTALLED_APPS = [\n",
    "    'django.contrib.admin',\n",
    "    'django.contrib.auth',\n",
    "    'django.contrib.contenttypes',\n",
    "    'django.contrib.sessions',\n",
    "    'django.contrib.messages',\n",
    "    'django.contrib.staticfiles',\n",
    "\n",
    "    'capstoneApp',                       <-- add the name of our newly created app!\n",
    "]"
   ]
  },
  {
   "cell_type": "markdown",
   "metadata": {},
   "source": [
    "# Lets write our first application\n",
    "\n",
    "Make Edit in capstoneApp/views.py\n",
    "\n",
    "<h3>views.py</h3>"
   ]
  },
  {
   "cell_type": "raw",
   "metadata": {},
   "source": [
    "from django.http import HttpResponse\n",
    "\n",
    "def home(request):\n",
    "    return HttpResponse('Hello, World!')"
   ]
  },
  {
   "cell_type": "markdown",
   "metadata": {},
   "source": [
    "# Tell DJango Now  when to serve this view.\n",
    "Make Edit in capstoneProject/urls.py\n",
    "<h3>urls.py</h3>\n"
   ]
  },
  {
   "cell_type": "raw",
   "metadata": {},
   "source": [
    "from django.conf.urls import url\n",
    "from django.contrib import admin\n",
    "\n",
    "from capstoneApp import views\n",
    "\n",
    "urlpatterns = [\n",
    "    url(r'^$', views.home, name='home'),   <-- add this line here\n",
    "    url(r'^admin/', admin.site.urls),\n",
    "]\n"
   ]
  },
  {
   "cell_type": "code",
   "execution_count": null,
   "metadata": {},
   "outputs": [],
   "source": [
    "# Now go to 2. RunWebsite.ipynb and Run command 'runserver'\n",
    "# The page will get open"
   ]
  },
  {
   "cell_type": "code",
   "execution_count": null,
   "metadata": {},
   "outputs": [],
   "source": []
  }
 ],
 "metadata": {
  "kernelspec": {
   "display_name": "Python 3",
   "language": "python",
   "name": "python3"
  },
  "language_info": {
   "codemirror_mode": {
    "name": "ipython",
    "version": 3
   },
   "file_extension": ".py",
   "mimetype": "text/x-python",
   "name": "python",
   "nbconvert_exporter": "python",
   "pygments_lexer": "ipython3",
   "version": "3.7.3"
  },
  "toc": {
   "base_numbering": 1,
   "nav_menu": {},
   "number_sections": true,
   "sideBar": true,
   "skip_h1_title": false,
   "title_cell": "Table of Contents",
   "title_sidebar": "Contents",
   "toc_cell": false,
   "toc_position": {},
   "toc_section_display": true,
   "toc_window_display": true
  },
  "varInspector": {
   "cols": {
    "lenName": 16,
    "lenType": 16,
    "lenVar": 40
   },
   "kernels_config": {
    "python": {
     "delete_cmd_postfix": "",
     "delete_cmd_prefix": "del ",
     "library": "var_list.py",
     "varRefreshCmd": "print(var_dic_list())"
    },
    "r": {
     "delete_cmd_postfix": ") ",
     "delete_cmd_prefix": "rm(",
     "library": "var_list.r",
     "varRefreshCmd": "cat(var_dic_list()) "
    }
   },
   "types_to_exclude": [
    "module",
    "function",
    "builtin_function_or_method",
    "instance",
    "_Feature"
   ],
   "window_display": false
  }
 },
 "nbformat": 4,
 "nbformat_minor": 2
}
