{
 "cells": [
  {
   "cell_type": "markdown",
   "metadata": {},
   "source": [
    "Run this file only first time when you want to setup Django Framework. No Need to Run this File again."
   ]
  },
  {
   "cell_type": "code",
   "execution_count": 2,
   "metadata": {
    "ExecuteTime": {
     "end_time": "2019-05-09T11:34:25.513055Z",
     "start_time": "2019-05-09T11:34:25.509067Z"
    }
   },
   "outputs": [
    {
     "name": "stdout",
     "output_type": "stream",
     "text": [
      "^C\n"
     ]
    }
   ],
   "source": [
    "# Need following packages to install.\n",
    "#!pip install virtualenv\n",
    "#!pip install django"
   ]
  },
  {
   "cell_type": "markdown",
   "metadata": {},
   "source": [
    "# Lets Create Virtual Evironment"
   ]
  },
  {
   "cell_type": "code",
   "execution_count": 4,
   "metadata": {
    "ExecuteTime": {
     "end_time": "2019-05-14T06:31:05.604063Z",
     "start_time": "2019-05-14T06:30:37.754077Z"
    },
    "scrolled": false
   },
   "outputs": [
    {
     "name": "stdout",
     "output_type": "stream",
     "text": [
      "Using base prefix 'E:\\\\ProgramFiles\\\\Anaconda3'\n",
      "  No LICENSE.txt / LICENSE found in source\n",
      "New python executable in d:\\Analytics Platform\\WebApplicationDjango\\venv\\Scripts\\python.exe\n",
      "Installing setuptools, pip, wheel...\n",
      "done.\n",
      "Running virtualenv with interpreter E:\\\\ProgramFiles\\\\Anaconda3\\\\python.exe\n"
     ]
    }
   ],
   "source": [
    "\n",
    "########## For Mac ##########\n",
    "#!virtualenv venv -p python3\n",
    "\n",
    "########## For Windows 10 ##########\n",
    "!virtualenv --python \"E:\\\\ProgramFiles\\\\Anaconda3\\\\python.exe\" venv"
   ]
  },
  {
   "cell_type": "code",
   "execution_count": 5,
   "metadata": {
    "ExecuteTime": {
     "end_time": "2019-05-14T06:31:05.882363Z",
     "start_time": "2019-05-14T06:31:05.614021Z"
    }
   },
   "outputs": [],
   "source": [
    "########## For Mac ##########\n",
    "#!source venv/bin/activate  ## To activate environment\n",
    "#! source deactivate       ## To deactivate environment\n",
    "\n",
    "########## For Windows 10 ##########\n",
    "!venv\\Scripts\\activate\n",
    "#!venv\\Scripts\\deactivate"
   ]
  },
  {
   "cell_type": "markdown",
   "metadata": {},
   "source": [
    "# Starting new DJANGO Project"
   ]
  },
  {
   "cell_type": "code",
   "execution_count": 3,
   "metadata": {
    "ExecuteTime": {
     "end_time": "2019-05-14T06:31:07.688580Z",
     "start_time": "2019-05-14T06:31:05.889285Z"
    }
   },
   "outputs": [],
   "source": [
    "!django-admin startproject Platform"
   ]
  },
  {
   "cell_type": "raw",
   "metadata": {},
   "source": [
    "Home/                  <-- higher level folder\n",
    " |-- Platform/             <-- django project folder\n",
    " |    |-- Platform/\n",
    " |    |    |-- __init__.py\n",
    " |    |    |-- settings.py\n",
    " |    |    |-- urls.py\n",
    " |    |    |-- wsgi.py\n",
    " |    +-- manage.py\n",
    " +-- venv/                  <-- virtual environment folder"
   ]
  },
  {
   "cell_type": "markdown",
   "metadata": {},
   "source": [
    "Our initial project structure is composed of five files:\n",
    "\n",
    "<b>manage.py</b>:<br> \n",
    "    a shortcut to use the django-admin command-line utility. It’s used to run management commands related to our project. We will use it to run the development server, run tests, create migrations and much more.\n",
    "\n",
    "<b>__init__.py</b>: <br> this empty file tells Python that this folder is a Python package.\n",
    "\n",
    "<b>settings.py</b>: <br> this file contains all the project’s configuration. We will refer to this file all the time!\n",
    "\n",
    "<b>urls.py</b>: <br> \n",
    "    this file is responsible for mapping the routes and paths in our project. For example, if you want to show something in the URL /about/, you have to map it here first.\n",
    "\n",
    "<b>wsgi.py</b>: <br> \n",
    "    this file is a simple gateway interface used for deployment. You don’t have to bother about it. Just let it be for now"
   ]
  },
  {
   "cell_type": "markdown",
   "metadata": {},
   "source": [
    "# Starting new DJANGO app\n",
    "\n",
    "In the Django philosophy we have two important concepts:\n",
    "\n",
    "<b>app: </b><br>is a Web application that does something. An app usually is composed of a set of models (database tables), views, templates, tests.\n",
    "\n",
    "\n",
    "<b>project: </b><br>is a collection of configurations and apps. One project can be composed of multiple apps, or a single app."
   ]
  },
  {
   "cell_type": "code",
   "execution_count": 4,
   "metadata": {
    "ExecuteTime": {
     "end_time": "2019-05-14T06:31:17.929884Z",
     "start_time": "2019-05-14T06:31:15.001682Z"
    }
   },
   "outputs": [],
   "source": [
    "!django-admin startapp Application\n",
    "# this will add few more folders\n"
   ]
  },
  {
   "cell_type": "markdown",
   "metadata": {},
   "source": [
    "<b>Important thing (DONT SKIP THIS)</b><br/>\n",
    "Move above created folder inside the Project MANUALLY.<br/>\n",
    "Make sure that your folder follows following hierarchy"
   ]
  },
  {
   "cell_type": "raw",
   "metadata": {},
   "source": [
    "Home/\n",
    " |-- Platform/\n",
    " |    |-- Application/                <-- our new django app!\n",
    " |    |    |-- migrations/\n",
    " |    |    |    +-- __init__.py\n",
    " |    |    |-- __init__.py\n",
    " |    |    |-- admin.py\n",
    " |    |    |-- apps.py\n",
    " |    |    |-- models.py\n",
    " |    |    |-- tests.py\n",
    " |    |    +-- views.py\n",
    " |    |-- Platform/\n",
    " |    |    |-- __init__.py\n",
    " |    |    |-- settings.py\n",
    " |    |    |-- urls.py\n",
    " |    |    |-- wsgi.py\n",
    " |    +-- manage.py\n",
    " +-- venv/"
   ]
  },
  {
   "cell_type": "markdown",
   "metadata": {},
   "source": [
    "So, let’s first explore what each file does:\n",
    "\n",
    "<b>migrations:</b><br> here Django store some files to keep track of the changes you create in the models.py file, so to keep the database and the models.py synchronized.\n",
    "\n",
    "<b>admin.py:</b><br> this is a configuration file for a built-in Django app called Django Admin.\n",
    "\n",
    "<b>apps.py:</b><br> this is a configuration file of the app itself.\n",
    "\n",
    "<b>models.py:</b><br> here is where we define the entities of our Web application. The models are translated automatically by Django into database tables.\n",
    "\n",
    "<b>tests.py:</b><br> this file is used to write unit tests for the app.\n",
    "\n",
    "<b>views.py:</b><br> this is the file where we handle the request/response cycle of our Web application."
   ]
  },
  {
   "cell_type": "markdown",
   "metadata": {},
   "source": [
    "# Configure project to use app\n",
    "\n",
    "Make Edit in Project/settings.py\n",
    "<h3>settings.py</h3>\n",
    "\n",
    "Now that we created our first app, let’s configure our project to use it.\n",
    "\n",
    "To do that, open the settings.py and try to find the INSTALLED_APPS variable:"
   ]
  },
  {
   "cell_type": "raw",
   "metadata": {},
   "source": [
    "iINSTALLED_APPS = [\n",
    "    'django.contrib.admin',\n",
    "    'django.contrib.auth',\n",
    "    'django.contrib.contenttypes',\n",
    "    'django.contrib.sessions',\n",
    "    'django.contrib.messages',\n",
    "    'django.contrib.staticfiles',\n",
    "\n",
    "    'Application',                       <-- add the name of our newly created app!\n",
    "]"
   ]
  },
  {
   "cell_type": "markdown",
   "metadata": {},
   "source": [
    "# Lets write our first application\n",
    "\n",
    "Make Edit in Project/Application/views.py\n",
    "\n",
    "<h3>views.py</h3>"
   ]
  },
  {
   "cell_type": "raw",
   "metadata": {},
   "source": [
    "from django.http import HttpResponse\n",
    "\n",
    "def home(request):\n",
    "    return HttpResponse('Hello, World!')"
   ]
  },
  {
   "cell_type": "markdown",
   "metadata": {},
   "source": [
    "# Tell DJango Now  when to serve this view.\n",
    "Make Edit in Application/urls.py\n",
    "<h3>urls.py</h3>\n"
   ]
  },
  {
   "cell_type": "raw",
   "metadata": {},
   "source": [
    "from django.conf.urls import url\n",
    "from django.contrib import admin\n",
    "\n",
    "from Application import views\n",
    "\n",
    "urlpatterns = [\n",
    "    url(r'^$', views.home, name='home'),   <-- add this line here\n",
    "    url(r'^admin/', admin.site.urls),\n",
    "]\n"
   ]
  },
  {
   "cell_type": "code",
   "execution_count": null,
   "metadata": {},
   "outputs": [],
   "source": [
    "# Now go to 2. RunWebsite.ipynb and Run command 'runserver'\n",
    "# The page will get open"
   ]
  },
  {
   "cell_type": "markdown",
   "metadata": {},
   "source": [
    "# Additional Setups - \n",
    "## Move HTML code into separate file"
   ]
  },
  {
   "cell_type": "markdown",
   "metadata": {},
   "source": [
    "Till now we were writing HTML code in Platform/Application/views.py in the form of <br>\n",
    "<pre>def home(request):\n",
    "    return HttpResponse('Hello, World!')</pre>\n",
    " \n",
    " Now lets separate the HTML code into the new file with .html extension\n",
    " <br>So lets have 2 separate code files :\n",
    "<pre><b>Platform/Application/view.py</b>\n",
    "def home(request):\n",
    "    return render(request, 'home.html')\n",
    "    \n",
    "<b>Platform/Application/templates/home.html</b>\n",
    "< html >\n",
    "    < body >\n",
    "        Welcome Shital!\n",
    "    < /body >\n",
    "< /html >\n",
    "</pre>\n",
    "---"
   ]
  },
  {
   "cell_type": "markdown",
   "metadata": {},
   "source": [
    "To tell DJango where our template folder lies, Make following changes in Setting.py file\n",
    "<pre><b>Platform/Platform/settings.py</b>\n",
    "TEMPLATES =[ ......\n",
    "        'DIRS': [os.path.join(BASE_DIR, 'Application/templates')]\n",
    "        ..... ]\n",
    "    </pre>"
   ]
  },
  {
   "cell_type": "markdown",
   "metadata": {},
   "source": [
    "## HTML Front And Python Backend"
   ]
  },
  {
   "cell_type": "markdown",
   "metadata": {},
   "source": [
    "Lets move one step ahead. Instead of static HTML we will create interactive HTML page. Page will have hello button, one cliking it the alert msg apears with 'Hi, How are you'"
   ]
  },
  {
   "cell_type": "markdown",
   "metadata": {},
   "source": [
    "<b>home.html"
   ]
  },
  {
   "cell_type": "raw",
   "metadata": {},
   "source": [
    "\n",
    "<html>\n",
    "  <script>\n",
    "   alert('{{msg}}')\n",
    "  </script>\n",
    "  <body>\n",
    "     Welcome Shital!\n",
    "     <p>\n",
    "       <form name=\"form\" action=\"{% url \"hello\" %}\" method=\"POST\">\n",
    "       {% csrf_token %}\n",
    "       <input type=\"submit\" value=\"Hello\"></form>\n",
    "     </p>\n",
    "  </body>\n",
    "</html>"
   ]
  },
  {
   "cell_type": "markdown",
   "metadata": {},
   "source": [
    "<b>view.py<b>"
   ]
  },
  {
   "cell_type": "raw",
   "metadata": {},
   "source": [
    "\n",
    "def hello(request):\n",
    "\tmessages.info(request,'Hie')\n",
    "\treturn render_to_response('home.html',{'msg':'Hi, How are you?'});\n"
   ]
  },
  {
   "cell_type": "markdown",
   "metadata": {},
   "source": [
    "<b>urls.py</b>"
   ]
  },
  {
   "cell_type": "markdown",
   "metadata": {},
   "source": [
    "we can give any url pattern to show it on webpage"
   ]
  },
  {
   "cell_type": "raw",
   "metadata": {},
   "source": [
    "urlpatterns = [\n",
    "    ....\n",
    "    url(r'^hello$',views.hello, name = ''),\n",
    "]\n"
   ]
  },
  {
   "cell_type": "code",
   "execution_count": null,
   "metadata": {},
   "outputs": [],
   "source": [
    "# added text box to enter name. "
   ]
  },
  {
   "cell_type": "raw",
   "metadata": {},
   "source": [
    "## home.html\n",
    "<p>\n",
    "       <form name=\"form\" action=\"{% url \"helloWithName\" %}\" method=\"POST\">\n",
    "       {% csrf_token %}\n",
    "       Enter Name : <input type='text' name='username'/><br>\t  \n",
    "       <input type=\"submit\" value=\"Hello with Name\"></form>\n",
    " </p>\n"
   ]
  },
  {
   "cell_type": "raw",
   "metadata": {},
   "source": [
    "### view.py\n",
    "def helloWithName(request):\n",
    "\tusername=request.POST.get('username',None)\n",
    "\treturn render_to_response('home.html',{'msg':'Hi'+username+', How are you?'});"
   ]
  },
  {
   "cell_type": "raw",
   "metadata": {},
   "source": [
    "### url\n",
    "urlpatterns = [\n",
    "    url(r'^$', views.home, name='home'),\n",
    "    url(r'^admin/', admin.site.urls),\n",
    "    url(r'^hello$',views.hello, name = 'hello'),\n",
    "    url(r'^helloWithName$',views.helloWithName, name = 'helloWithName'),\n",
    "\n",
    "]"
   ]
  },
  {
   "cell_type": "code",
   "execution_count": null,
   "metadata": {},
   "outputs": [],
   "source": []
  }
 ],
 "metadata": {
  "hide_input": false,
  "kernelspec": {
   "display_name": "Python 3",
   "language": "python",
   "name": "python3"
  },
  "language_info": {
   "codemirror_mode": {
    "name": "ipython",
    "version": 3
   },
   "file_extension": ".py",
   "mimetype": "text/x-python",
   "name": "python",
   "nbconvert_exporter": "python",
   "pygments_lexer": "ipython3",
   "version": "3.7.3"
  },
  "toc": {
   "base_numbering": 1,
   "nav_menu": {},
   "number_sections": true,
   "sideBar": true,
   "skip_h1_title": false,
   "title_cell": "Table of Contents",
   "title_sidebar": "Contents",
   "toc_cell": false,
   "toc_position": {},
   "toc_section_display": true,
   "toc_window_display": true
  },
  "varInspector": {
   "cols": {
    "lenName": 16,
    "lenType": 16,
    "lenVar": 40
   },
   "kernels_config": {
    "python": {
     "delete_cmd_postfix": "",
     "delete_cmd_prefix": "del ",
     "library": "var_list.py",
     "varRefreshCmd": "print(var_dic_list())"
    },
    "r": {
     "delete_cmd_postfix": ") ",
     "delete_cmd_prefix": "rm(",
     "library": "var_list.r",
     "varRefreshCmd": "cat(var_dic_list()) "
    }
   },
   "types_to_exclude": [
    "module",
    "function",
    "builtin_function_or_method",
    "instance",
    "_Feature"
   ],
   "window_display": false
  }
 },
 "nbformat": 4,
 "nbformat_minor": 2
}
